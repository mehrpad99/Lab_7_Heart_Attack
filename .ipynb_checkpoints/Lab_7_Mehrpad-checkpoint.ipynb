{
 "cells": [
  {
   "cell_type": "raw",
   "metadata": {},
   "source": [
    "---\n",
    "title: \"Lab_7 Heart Attack\"\n",
    "author: \"Mehrpad Moattari\"\n",
    "date: \"Nov 28, 2023\"\n",
    "font-family: \"Georgia, serif\"\n",
    "fontcolor: \"black\"\n",
    "backgroundcolor: \"lightcyan\"\n",
    "self-contained: true\n",
    "format:\n",
    "  html:\n",
    "    theme: \"lux\"\n",
    "---"
   ]
  },
  {
   "cell_type": "code",
   "execution_count": 1,
   "metadata": {},
   "outputs": [],
   "source": [
    "import pandas as pd\n",
    "from sklearn.pipeline import Pipeline\n",
    "from sklearn.neighbors import KNeighborsClassifier\n",
    "from sklearn.tree import DecisionTreeClassifier\n",
    "from sklearn.linear_model import LogisticRegression"
   ]
  },
  {
   "cell_type": "code",
   "execution_count": 2,
   "metadata": {},
   "outputs": [
    {
     "data": {
      "text/html": [
       "<div>\n",
       "<style scoped>\n",
       "    .dataframe tbody tr th:only-of-type {\n",
       "        vertical-align: middle;\n",
       "    }\n",
       "\n",
       "    .dataframe tbody tr th {\n",
       "        vertical-align: top;\n",
       "    }\n",
       "\n",
       "    .dataframe thead th {\n",
       "        text-align: right;\n",
       "    }\n",
       "</style>\n",
       "<table border=\"1\" class=\"dataframe\">\n",
       "  <thead>\n",
       "    <tr style=\"text-align: right;\">\n",
       "      <th></th>\n",
       "      <th>age</th>\n",
       "      <th>sex</th>\n",
       "      <th>cp</th>\n",
       "      <th>trtbps</th>\n",
       "      <th>chol</th>\n",
       "      <th>restecg</th>\n",
       "      <th>thalach</th>\n",
       "      <th>output</th>\n",
       "    </tr>\n",
       "  </thead>\n",
       "  <tbody>\n",
       "    <tr>\n",
       "      <th>0</th>\n",
       "      <td>63</td>\n",
       "      <td>1</td>\n",
       "      <td>3</td>\n",
       "      <td>145</td>\n",
       "      <td>233</td>\n",
       "      <td>0</td>\n",
       "      <td>150</td>\n",
       "      <td>1</td>\n",
       "    </tr>\n",
       "    <tr>\n",
       "      <th>1</th>\n",
       "      <td>37</td>\n",
       "      <td>1</td>\n",
       "      <td>2</td>\n",
       "      <td>130</td>\n",
       "      <td>250</td>\n",
       "      <td>1</td>\n",
       "      <td>187</td>\n",
       "      <td>1</td>\n",
       "    </tr>\n",
       "    <tr>\n",
       "      <th>2</th>\n",
       "      <td>56</td>\n",
       "      <td>1</td>\n",
       "      <td>1</td>\n",
       "      <td>120</td>\n",
       "      <td>236</td>\n",
       "      <td>1</td>\n",
       "      <td>178</td>\n",
       "      <td>1</td>\n",
       "    </tr>\n",
       "    <tr>\n",
       "      <th>3</th>\n",
       "      <td>57</td>\n",
       "      <td>0</td>\n",
       "      <td>0</td>\n",
       "      <td>120</td>\n",
       "      <td>354</td>\n",
       "      <td>1</td>\n",
       "      <td>163</td>\n",
       "      <td>1</td>\n",
       "    </tr>\n",
       "    <tr>\n",
       "      <th>4</th>\n",
       "      <td>57</td>\n",
       "      <td>1</td>\n",
       "      <td>0</td>\n",
       "      <td>140</td>\n",
       "      <td>192</td>\n",
       "      <td>1</td>\n",
       "      <td>148</td>\n",
       "      <td>1</td>\n",
       "    </tr>\n",
       "  </tbody>\n",
       "</table>\n",
       "</div>"
      ],
      "text/plain": [
       "   age  sex  cp  trtbps  chol  restecg  thalach  output\n",
       "0   63    1   3     145   233        0      150       1\n",
       "1   37    1   2     130   250        1      187       1\n",
       "2   56    1   1     120   236        1      178       1\n",
       "3   57    0   0     120   354        1      163       1\n",
       "4   57    1   0     140   192        1      148       1"
      ]
     },
     "execution_count": 2,
     "metadata": {},
     "output_type": "execute_result"
    }
   ],
   "source": [
    "df=pd.read_csv(\"C:/Users/mehrp/OneDrive/Documents/GitHub/Lab_7/heart_attack.csv\")\n",
    "df.head()"
   ]
  },
  {
   "cell_type": "markdown",
   "metadata": {},
   "source": [
    "## Part One: Fitting Models"
   ]
  },
  {
   "cell_type": "markdown",
   "metadata": {},
   "source": [
    "### KNN Classification"
   ]
  },
  {
   "cell_type": "code",
   "execution_count": 4,
   "metadata": {},
   "outputs": [
    {
     "data": {
      "text/html": [
       "<div>\n",
       "<style scoped>\n",
       "    .dataframe tbody tr th:only-of-type {\n",
       "        vertical-align: middle;\n",
       "    }\n",
       "\n",
       "    .dataframe tbody tr th {\n",
       "        vertical-align: top;\n",
       "    }\n",
       "\n",
       "    .dataframe thead th {\n",
       "        text-align: right;\n",
       "    }\n",
       "</style>\n",
       "<table border=\"1\" class=\"dataframe\">\n",
       "  <thead>\n",
       "    <tr style=\"text-align: right;\">\n",
       "      <th></th>\n",
       "      <th>n</th>\n",
       "      <th>AUC</th>\n",
       "    </tr>\n",
       "  </thead>\n",
       "  <tbody>\n",
       "    <tr>\n",
       "      <th>0</th>\n",
       "      <td>1</td>\n",
       "      <td>0.698668</td>\n",
       "    </tr>\n",
       "    <tr>\n",
       "      <th>1</th>\n",
       "      <td>10</td>\n",
       "      <td>0.810824</td>\n",
       "    </tr>\n",
       "    <tr>\n",
       "      <th>2</th>\n",
       "      <td>100</td>\n",
       "      <td>0.837824</td>\n",
       "    </tr>\n",
       "    <tr>\n",
       "      <th>3</th>\n",
       "      <td>200</td>\n",
       "      <td>0.824572</td>\n",
       "    </tr>\n",
       "  </tbody>\n",
       "</table>\n",
       "</div>"
      ],
      "text/plain": [
       "     n       AUC\n",
       "0    1  0.698668\n",
       "1   10  0.810824\n",
       "2  100  0.837824\n",
       "3  200  0.824572"
      ]
     },
     "execution_count": 4,
     "metadata": {},
     "output_type": "execute_result"
    }
   ],
   "source": [
    "from sklearn.preprocessing import StandardScaler\n",
    "from sklearn.model_selection import cross_val_score\n",
    "from sklearn.metrics import confusion_matrix, roc_curve, auc\n",
    "import matplotlib.pyplot as plt\n",
    "from sklearn.model_selection import train_test_split\n",
    "\n",
    "# Splitting up the data - 'X' for the stuff we know, 'y' for what we're guessing.\n",
    "X=df.drop(\"output\", axis=1)\n",
    "y=df[\"output\"]\n",
    "\n",
    "# Let's try out different numbers of neighbors in our KNN. \n",
    "ns=[1,10,100,200]\n",
    "knc_auc_list=[]\n",
    "\n",
    "# Time for a loop - let's see which number of neighbors is the golden ticket\n",
    "for n in ns:\n",
    "    \n",
    "    # Making a pipeline: first, make all our data play nice (standardize it), then hit it with the KNN. \n",
    "    knc_pipeline=Pipeline(\n",
    "        [\n",
    "            (\"standardize\", StandardScaler()),\n",
    "            (\"knc\", KNeighborsClassifier(n_neighbors=n))\n",
    "        ]\n",
    "    )\n",
    "    \n",
    "    \n",
    "    knc_auc=cross_val_score(knc_pipeline, X, y, cv=5, scoring='roc_auc').mean()\n",
    "    knc_auc_list.append(knc_auc)\n",
    "\n",
    "# Let's see our AUC scores in a neat little table \n",
    "knc_auc_df=pd.DataFrame({'n': ns, 'AUC': knc_auc_list})\n",
    "\n",
    "knc_auc_df"
   ]
  },
  {
   "cell_type": "markdown",
   "metadata": {},
   "source": [
    "Based on the output, it seems like 100 neighbors give the highest AUC score. This means that a KNN model with 100 neighbors is, on average, best at distinguishing between patients at risk of a heart attack and those not at risk, according to the data."
   ]
  },
  {
   "cell_type": "code",
   "execution_count": 6,
   "metadata": {},
   "outputs": [
    {
     "name": "stdout",
     "output_type": "stream",
     "text": [
      "Confusion Matrix:\n",
      " [[29  7]\n",
      " [21 25]]\n"
     ]
    },
    {
     "data": {
      "image/png": "[encoded data removed]",
      "text/plain": [
       "<Figure size 640x480 with 1 Axes>"
      ]
     },
     "metadata": {},
     "output_type": "display_data"
    }
   ],
   "source": [
    "# Splitting data for training and testing.\n",
    "X_train, X_test, y_train, y_test = train_test_split(X, y, test_size=0.3, random_state=42)\n",
    "\n",
    "# KNN with 100 neighbors - our best pick.\n",
    "knc_pipeline_fitted = Pipeline(\n",
    "    [\n",
    "        (\"standardize\", StandardScaler()),\n",
    "        (\"knc\", KNeighborsClassifier(n_neighbors=100))\n",
    "    ]\n",
    ")\n",
    "knc_pipeline_fitted.fit(X_train, y_train)  # Train it!\n",
    "\n",
    "# Making predictions and getting confusion matrix.\n",
    "y_knc_test_pred = knc_pipeline_fitted.predict(X_test)\n",
    "conf_matrix_knc = confusion_matrix(y_test, y_knc_test_pred)\n",
    "\n",
    "# Calculating ROC curve and AUC.\n",
    "y_knc_test_prob = knc_pipeline_fitted.predict_proba(X_test)\n",
    "fpr_knc, tpr_knc, _ = roc_curve(y_test, y_knc_test_prob[:,1])\n",
    "roc_auc_knc = auc(fpr_knc, tpr_knc)\n",
    "\n",
    "print(\"Confusion Matrix:/n\", conf_matrix_knc)\n",
    "\n",
    "# Plotting the ROC curve.\n",
    "plt.figure()\n",
    "plt.plot(fpr_knc, tpr_knc, color='darkorange', lw=2, label=f'ROC curve (area = {roc_auc_knc:.2f})')\n",
    "plt.plot([0, 1], [0, 1], color='navy', lw=2, linestyle='--')\n",
    "plt.xlabel('False Positive Rate')\n",
    "plt.ylabel('True Positive Rate')\n",
    "plt.title('ROC for KNN')\n",
    "plt.legend(loc=\"lower right\")\n",
    "plt.show()\n"
   ]
  },
  {
   "cell_type": "markdown",
   "metadata": {},
   "source": [
    "The ROC curve for the KNN classifier shows a decent balance between the true positive rate (sensitivity) and false positive rate, with an AUC of 0.75. This means the model has a 75% chance of correctly distinguishing between the classes."
   ]
  },
  {
   "cell_type": "markdown",
   "metadata": {},
   "source": [
    "### Logistic Regression"
   ]
  },
  {
   "cell_type": "code",
   "execution_count": 8,
   "metadata": {},
   "outputs": [
    {
     "name": "stdout",
     "output_type": "stream",
     "text": [
      "The cross-validated ROC-AUC is 0.85\n",
      "Confusion Matrix:\n",
      " [[26 10]\n",
      " [18 28]]\n"
     ]
    },
    {
     "data": {
      "image/png": "[encoded data removed]",
      "text/plain": [
       "<Figure size 640x480 with 1 Axes>"
      ]
     },
     "metadata": {},
     "output_type": "display_data"
    }
   ],
   "source": [
    "# Logistic regression time - setting up the pipeline.\n",
    "logreg_pipeline = Pipeline(\n",
    "    [\n",
    "        (\"standardize\", StandardScaler()),  # Gotta normalize the features first.\n",
    "        (\"logreg\", LogisticRegression())    # The logistic regression model.\n",
    "    ]\n",
    ")\n",
    "\n",
    "# Check how well our model does using AUC as the yardstick.\n",
    "logreg_auc = cross_val_score(logreg_pipeline, X, y, cv=5, scoring='roc_auc')\n",
    "print(f\"The cross-validated ROC-AUC is {logreg_auc.mean():.2f}\")\n",
    "\n",
    "# Train the model on the training data.\n",
    "logreg_pipeline.fit(X_train, y_train)\n",
    "\n",
    "# Make predictions and see where they land.\n",
    "y_logreg_test_pred = logreg_pipeline.predict(X_test)\n",
    "conf_matrix_logreg = confusion_matrix(y_test, y_logreg_test_pred)\n",
    "\n",
    "# Get the probs to plot an ROC curve.\n",
    "y_logreg_test_prob = logreg_pipeline.predict_proba(X_test)\n",
    "fpr_logreg, tpr_logreg, _ = roc_curve(y_test, y_logreg_test_prob[:,1])\n",
    "roc_auc_logreg = auc(fpr_logreg, tpr_logreg)\n",
    "\n",
    "print(\"Confusion Matrix:/n\", conf_matrix_logreg)\n",
    "\n",
    "# Let's get visual - plotting the ROC curve.\n",
    "plt.figure()\n",
    "plt.plot(fpr_logreg, tpr_logreg, color='darkorange', lw=2, label=f'ROC curve (area = {roc_auc_logreg:.2f})')\n",
    "plt.plot([0, 1], [0, 1], color='navy', lw=2, linestyle='--')\n",
    "plt.xlabel('False Positive Rate')\n",
    "plt.ylabel('True Positive Rate')\n",
    "plt.title('ROC for Logistic Regression')\n",
    "plt.legend(loc=\"lower right\")\n",
    "plt.show()\n"
   ]
  },
  {
   "cell_type": "markdown",
   "metadata": {},
   "source": [
    "The ROC curve for the Logistic Regression model is showing a decent performance with an AUC of 0.76. This AUC value suggests that the model has a 76% chance of correctly differentiating between the positive and negative classes. \n",
    "\n",
    "Notably, the cross-validated ROC-AUC score mentioned in the code is 0.85, which suggests that the model may perform slightly better on average across different subsets of the data than what we see in this particular test set."
   ]
  },
  {
   "cell_type": "markdown",
   "metadata": {},
   "source": [
    "### Decision Tree"
   ]
  },
  {
   "cell_type": "code",
   "execution_count": 9,
   "metadata": {},
   "outputs": [
    {
     "data": {
      "text/html": [
       "<div>\n",
       "<style scoped>\n",
       "    .dataframe tbody tr th:only-of-type {\n",
       "        vertical-align: middle;\n",
       "    }\n",
       "\n",
       "    .dataframe tbody tr th {\n",
       "        vertical-align: top;\n",
       "    }\n",
       "\n",
       "    .dataframe thead th {\n",
       "        text-align: right;\n",
       "    }\n",
       "</style>\n",
       "<table border=\"1\" class=\"dataframe\">\n",
       "  <thead>\n",
       "    <tr style=\"text-align: right;\">\n",
       "      <th></th>\n",
       "      <th>min_samples_leaf</th>\n",
       "      <th>AUC</th>\n",
       "    </tr>\n",
       "  </thead>\n",
       "  <tbody>\n",
       "    <tr>\n",
       "      <th>0</th>\n",
       "      <td>5</td>\n",
       "      <td>0.772687</td>\n",
       "    </tr>\n",
       "    <tr>\n",
       "      <th>1</th>\n",
       "      <td>10</td>\n",
       "      <td>0.795048</td>\n",
       "    </tr>\n",
       "    <tr>\n",
       "      <th>2</th>\n",
       "      <td>50</td>\n",
       "      <td>0.791481</td>\n",
       "    </tr>\n",
       "    <tr>\n",
       "      <th>3</th>\n",
       "      <td>100</td>\n",
       "      <td>0.753333</td>\n",
       "    </tr>\n",
       "  </tbody>\n",
       "</table>\n",
       "</div>"
      ],
      "text/plain": [
       "   min_samples_leaf       AUC\n",
       "0                 5  0.772687\n",
       "1                10  0.795048\n",
       "2                50  0.791481\n",
       "3               100  0.753333"
      ]
     },
     "execution_count": 9,
     "metadata": {},
     "output_type": "execute_result"
    }
   ],
   "source": [
    "# Let's see how tweaking the min_samples_leaf parameter affects Decision Trees.\n",
    "samples_leaves = [5, 10, 50, 100]\n",
    "dtc_auc_list = []\n",
    "\n",
    "# Looping through different sizes for the minimum samples per leaf.\n",
    "for samples_leave in samples_leaves:\n",
    "    # Building a pipeline for our decision tree, including data scaling.\n",
    "    dtc_pipeline = Pipeline(\n",
    "        [\n",
    "            (\"standardize\", StandardScaler()),\n",
    "            (\"dtc\", DecisionTreeClassifier(min_samples_leaf=samples_leave))\n",
    "        ]\n",
    "    )\n",
    "\n",
    "    # Getting the average ROC-AUC score from cross-validation.\n",
    "    dtc_auc = cross_val_score(dtc_pipeline, X, y, cv=5, scoring='roc_auc').mean()\n",
    "    dtc_auc_list.append(dtc_auc)\n",
    "    \n",
    "# Wrapping up the scores in a DataFrame to compare.\n",
    "dtc_auc_df = pd.DataFrame({'min_samples_leaf': samples_leaves, 'AUC': dtc_auc_list})\n",
    "dtc_auc_df"
   ]
  },
  {
   "cell_type": "markdown",
   "metadata": {},
   "source": [
    "The AUC scores suggest that a Decision Tree with min_samples_leaf set to 10 gives us the best performance out of the options we've tried, with an AUC of about 0.80. This implies a sweet spot where the tree is complex enough to capture patterns but not so detailed that it starts to overfit. As we increase the min_samples_leaf to 50, there's a slight drop in performance, and with 100, the AUC dips further, indicating that too much generalization can hurt the model's ability to differentiate between classes. The lowest AUC with a minimum of 5 samples per leaf suggests that a bit more complexity (i.e., increasing to 10) actually helps the model.\n",
    "\n",
    "\n",
    "\n",
    "\n",
    "\n"
   ]
  },
  {
   "cell_type": "code",
   "execution_count": 10,
   "metadata": {},
   "outputs": [
    {
     "name": "stdout",
     "output_type": "stream",
     "text": [
      "Confusion Matrix:\n",
      " [[24 12]\n",
      " [16 30]]\n"
     ]
    },
    {
     "data": {
      "image/png": "[encoded data removed]",
      "text/plain": [
       "<Figure size 640x480 with 1 Axes>"
      ]
     },
     "metadata": {},
     "output_type": "display_data"
    }
   ],
   "source": [
    "# Decision Tree model with the best min_samples_leaf we found.\n",
    "dtc_pipeline_fitted = Pipeline(\n",
    "    [\n",
    "        (\"standardize\", StandardScaler()),  # Standardization: a must-do before any model!\n",
    "        (\"dtc\", DecisionTreeClassifier(min_samples_leaf=10))  # DT with our best leaf size.\n",
    "    ]\n",
    ")\n",
    "dtc_pipeline_fitted.fit(X_train, y_train)  # Training the model with the training set.\n",
    "\n",
    "# Let's see what the model predicts on our test set.\n",
    "y_dtc_test_pred = dtc_pipeline_fitted.predict(X_test)\n",
    "conf_matrix_dtc = confusion_matrix(y_test, y_dtc_test_pred)  # Checking how many we got right and wrong.\n",
    "\n",
    "# Also get the probability scores needed to plot the ROC curve.\n",
    "y_dtc_test_prob = dtc_pipeline_fitted.predict_proba(X_test)\n",
    "fpr_dtc, tpr_dtc, _ = roc_curve(y_test, y_dtc_test_prob[:,1])\n",
    "roc_auc_dtc = auc(fpr_dtc, tpr_dtc)  # The AUC score will tell us how good our model is overall.\n",
    "\n",
    "print(\"Confusion Matrix:/n\", conf_matrix_dtc)\n",
    "\n",
    "# And now for some visuals - plotting the ROC curve.\n",
    "plt.figure()\n",
    "plt.plot(fpr_dtc, tpr_dtc, color='darkorange', lw=2, label=f'ROC curve (area = {roc_auc_dtc:.2f})')\n",
    "plt.plot([0, 1], [0, 1], color='navy', lw=2, linestyle='--')  # That dashed line is our baseline.\n",
    "plt.xlabel('False Positive Rate')\n",
    "plt.ylabel('True Positive Rate')\n",
    "plt.title('ROC for Decision Tree')\n",
    "plt.legend(loc=\"lower right\")\n",
    "plt.show()  # Show the plot!"
   ]
  },
  {
   "cell_type": "markdown",
   "metadata": {},
   "source": [
    "The ROC curve for the Decision Tree model shows an AUC of 0.75, indicating that the model has a 75% chance of correctly classifying a randomly chosen positive instance higher than a randomly chosen negative instance. The model performs well but isn't perfect; there’s a steady climb towards the top-left corner but not quite close to the ideal curve."
   ]
  },
  {
   "cell_type": "markdown",
   "metadata": {},
   "source": [
    "### Interpretation"
   ]
  },
  {
   "cell_type": "markdown",
   "metadata": {},
   "source": [
    "To determine the most important predictors in a dataset for tasks like predicting heart attack risk, one would look at the coefficients of a logistic regression model or the feature importances given by tree-based models such as Decision Trees or Random Forests."
   ]
  },
  {
   "cell_type": "markdown",
   "metadata": {},
   "source": [
    "# Part Two: Metrics"
   ]
  },
  {
   "cell_type": "code",
   "execution_count": 11,
   "metadata": {},
   "outputs": [
    {
     "data": {
      "text/html": [
       "<div>\n",
       "<style scoped>\n",
       "    .dataframe tbody tr th:only-of-type {\n",
       "        vertical-align: middle;\n",
       "    }\n",
       "\n",
       "    .dataframe tbody tr th {\n",
       "        vertical-align: top;\n",
       "    }\n",
       "\n",
       "    .dataframe thead th {\n",
       "        text-align: right;\n",
       "    }\n",
       "</style>\n",
       "<table border=\"1\" class=\"dataframe\">\n",
       "  <thead>\n",
       "    <tr style=\"text-align: right;\">\n",
       "      <th></th>\n",
       "      <th>Model</th>\n",
       "      <th>Accuracy</th>\n",
       "      <th>Specificity</th>\n",
       "      <th>Sensitivity</th>\n",
       "      <th>Precision</th>\n",
       "    </tr>\n",
       "  </thead>\n",
       "  <tbody>\n",
       "    <tr>\n",
       "      <th>0</th>\n",
       "      <td>K-Nearest Neighbors</td>\n",
       "      <td>0.765455</td>\n",
       "      <td>0.699692</td>\n",
       "      <td>0.821609</td>\n",
       "      <td>0.761037</td>\n",
       "    </tr>\n",
       "    <tr>\n",
       "      <th>1</th>\n",
       "      <td>Logistic Regression</td>\n",
       "      <td>0.787475</td>\n",
       "      <td>0.747077</td>\n",
       "      <td>0.822069</td>\n",
       "      <td>0.792876</td>\n",
       "    </tr>\n",
       "    <tr>\n",
       "      <th>2</th>\n",
       "      <td>Decision Tree Classifier</td>\n",
       "      <td>0.747340</td>\n",
       "      <td>0.708308</td>\n",
       "      <td>0.780690</td>\n",
       "      <td>0.754762</td>\n",
       "    </tr>\n",
       "  </tbody>\n",
       "</table>\n",
       "</div>"
      ],
      "text/plain": [
       "                      Model  Accuracy  Specificity  Sensitivity  Precision\n",
       "0       K-Nearest Neighbors  0.765455     0.699692     0.821609   0.761037\n",
       "1       Logistic Regression  0.787475     0.747077     0.822069   0.792876\n",
       "2  Decision Tree Classifier  0.747340     0.708308     0.780690   0.754762"
      ]
     },
     "execution_count": 11,
     "metadata": {},
     "output_type": "execute_result"
    }
   ],
   "source": [
    "from sklearn.metrics import make_scorer\n",
    "\n",
    "# Part II, let's check how often our models get the positives right - that's the recall.\n",
    "recall_knc = cross_val_score(knc_pipeline_fitted, X, y, cv=5, scoring='recall').mean()\n",
    "recall_logreg = cross_val_score(logreg_pipeline, X, y, cv=5, scoring='recall').mean()\n",
    "recall_dtc = cross_val_score(dtc_pipeline_fitted, X, y, cv=5, scoring='recall').mean()\n",
    "\n",
    "# Now, let's look at precision - when our models say 'yes', how often is it a 'true yes'?\n",
    "precision_knc = cross_val_score(knc_pipeline_fitted, X, y, cv=5, scoring='precision').mean()\n",
    "precision_logreg = cross_val_score(logreg_pipeline, X, y, cv=5, scoring='precision').mean()\n",
    "precision_dtc = cross_val_score(dtc_pipeline_fitted, X, y, cv=5, scoring='precision').mean()\n",
    "\n",
    "# Specificity is up - it's like recall, but for the negatives.\n",
    "def specificity(y_true, y_pred):\n",
    "    tn, fp, fn, tp = confusion_matrix(y_true, y_pred).ravel()\n",
    "    return tn / (tn + fp)\n",
    "\n",
    "specificity_scorer = make_scorer(specificity)\n",
    "specificity_knc = cross_val_score(knc_pipeline_fitted, X, y, cv=5, scoring=specificity_scorer).mean()\n",
    "specificity_logreg = cross_val_score(logreg_pipeline, X, y, cv=5, scoring=specificity_scorer).mean()\n",
    "specificity_dtc = cross_val_score(dtc_pipeline_fitted, X, y, cv=5, scoring=specificity_scorer).mean()\n",
    "\n",
    "# Threw in accuracy as well, 'cause more info is always handy.\n",
    "accuracy_knc = cross_val_score(knc_pipeline_fitted, X, y, cv=5, scoring='accuracy').mean()\n",
    "accuracy_logreg = cross_val_score(logreg_pipeline, X, y, cv=5, scoring='accuracy').mean()\n",
    "accuracy_dtc = cross_val_score(dtc_pipeline_fitted, X, y, cv=5, scoring='accuracy').mean()\n",
    "\n",
    "# Let's put all these numbers in a table for a nice side-by-side.\n",
    "scores_data = {\n",
    "    'Model': ['K-Nearest Neighbors', 'Logistic Regression', 'Decision Tree Classifier'],\n",
    "    'Accuracy': [accuracy_knc, accuracy_logreg, accuracy_dtc],\n",
    "    'Specificity': [specificity_knc, specificity_logreg, specificity_dtc],\n",
    "    'Sensitivity': [recall_knc, recall_logreg, recall_dtc],\n",
    "    'Precision': [precision_knc, precision_logreg, precision_dtc]\n",
    "}\n",
    "\n",
    "# Pandas makes everything prettier.\n",
    "df_scores = pd.DataFrame(scores_data)\n",
    "df_scores"
   ]
  },
  {
   "cell_type": "markdown",
   "metadata": {},
   "source": [
    "# Part Three: Discussion"
   ]
  },
  {
   "cell_type": "markdown",
   "metadata": {},
   "source": [
    "### Q1"
   ]
  },
  {
   "cell_type": "markdown",
   "metadata": {},
   "source": [
    "To prevent lawsuits arising from misclassified low-risk patients, the hospital should prioritize sensitivity to minimize false negatives. The Logistic Regression model, with the highest sensitivity of 0.822, would be the best choice to ensure high-risk patients are correctly identified."
   ]
  },
  {
   "cell_type": "markdown",
   "metadata": {},
   "source": [
    "### Q2 "
   ]
  },
  {
   "cell_type": "markdown",
   "metadata": {},
   "source": [
    "With limited bed space, the hospital must prioritize precision to reduce false positives. The Logistic Regression model outperforms with a precision of 0.793, making it the optimal choice for allocating beds to those truly at high risk."
   ]
  },
  {
   "cell_type": "markdown",
   "metadata": {},
   "source": [
    "### Q3 "
   ]
  },
  {
   "cell_type": "markdown",
   "metadata": {},
   "source": [
    "To understand the root causes of heart attacks, the hospital needs a model that provides insights into the importance of predictor variables. The Decision Tree Classifier is most suitable for this purpose as it offers a clear representation of feature importance.\n",
    "\n",
    "It's important to note that while Logistic Regression is recommended based on these metrics, for Q3, if the hospital's goal is to understand feature importance specifically, the Decision Tree Classifier is recommended despite its lower accuracy because of its interpretability regarding which features contribute most to a prediction.\n",
    "\n"
   ]
  },
  {
   "cell_type": "markdown",
   "metadata": {},
   "source": [
    "### Q4 "
   ]
  },
  {
   "cell_type": "markdown",
   "metadata": {},
   "source": [
    "For benchmarking new doctors' diagnoses, the model with the highest overall accuracy should be used. The Logistic Regression model has the highest accuracy of 0.787, making it the best choice for comparison with the doctors' diagnostic decisions."
   ]
  },
  {
   "cell_type": "markdown",
   "metadata": {},
   "source": [
    "# Part Four: Validation\n"
   ]
  },
  {
   "cell_type": "markdown",
   "metadata": {},
   "source": [
    "### KNN"
   ]
  },
  {
   "cell_type": "code",
   "execution_count": 14,
   "metadata": {},
   "outputs": [
    {
     "name": "stdout",
     "output_type": "stream",
     "text": [
      "Confusion Matrix:\n",
      " [[11  0]\n",
      " [ 5 14]]\n",
      "ROC AUC: 0.91\n",
      "Precision: 0.84\n",
      "Recall: 0.87\n"
     ]
    }
   ],
   "source": [
    "from sklearn.metrics import precision_score, recall_score, roc_curve, auc\n",
    "\n",
    "# Loading the validation dataset for our final model testing.\n",
    "df_validate = pd.read_csv(\"C:/Users/mehrp/OneDrive/Documents/GitHub/Lab_7/heart_attack_validation.csv\")\n",
    "X_validate = df_validate.drop(\"output\", axis=1)\n",
    "y_validate = df_validate['output']\n",
    "\n",
    "# Using our previously fitted KNN pipeline to make predictions on validation data.\n",
    "y_knc_pred_validate = knc_pipeline_fitted.predict(X_validate)\n",
    "conf_matrix_knc_validate = confusion_matrix(y_validate, y_knc_pred_validate)  # How did we do?\n",
    "\n",
    "# Getting probability scores for the ROC curve.\n",
    "y_knc_prob_validate = knc_pipeline_fitted.predict_proba(X_validate)\n",
    "fpr_knc_validate, tpr_knc_validate, thresholds_knc_validate = roc_curve(y_validate, y_knc_prob_validate[:,1], pos_label=1)\n",
    "roc_auc_knc_validate = auc(fpr_knc_validate, tpr_knc_validate)  # Area under the ROC curve.\n",
    "\n",
    "# Evaluating precision and recall for the validation set predictions.\n",
    "precision_knc_validate = precision_score(y_validate, y_knc_pred_validate, average='macro')\n",
    "recall_knc_validate = recall_score(y_validate, y_knc_pred_validate, average='macro')\n",
    "\n",
    "# Printing out the performance metrics.\n",
    "print(\"Confusion Matrix:\\n\", conf_matrix_knc_validate)\n",
    "print(f\"ROC AUC: {roc_auc_knc_validate:.2f}\")\n",
    "print(f\"Precision: {precision_knc_validate:.2f}\")\n",
    "print(f\"Recall: {recall_knc_validate:.2f}\")\n"
   ]
  },
  {
   "cell_type": "markdown",
   "metadata": {},
   "source": [
    "The confusion matrix indicates that the KNN model correctly identified all 11 cases that were not at risk of a heart attack (true negatives) and 14 cases that were at risk (true positives). However, it incorrectly classified 5 cases as being at risk when they were not (false negatives). There were no false positives (cases where the model predicted no risk but there was one).\n",
    "\n",
    "An ROC AUC of 0.91 is quite high, suggesting the model does an excellent job in distinguishing between the classes. It indicates that the KNN model is very capable of correctly classifying patients at risk versus those not at risk of a heart attack.\n",
    "\n",
    "Precision of 0.84 means that when the model predicts a patient is at risk, it is correct 84% of the time. A recall (sensitivity) of 0.87 indicates that the model correctly identifies 87% of all at-risk patients."
   ]
  },
  {
   "cell_type": "markdown",
   "metadata": {},
   "source": [
    "### Logistic Regression"
   ]
  },
  {
   "cell_type": "code",
   "execution_count": 15,
   "metadata": {},
   "outputs": [
    {
     "name": "stdout",
     "output_type": "stream",
     "text": [
      "Confusion Matrix:\n",
      " [[ 9  2]\n",
      " [ 6 13]]\n",
      "ROC AUC: 0.88\n",
      "Precision: 0.73\n",
      "Recall: 0.75\n"
     ]
    }
   ],
   "source": [
    "# Validation for Logistic Regression model.\n",
    "\n",
    "# Predicting outcomes using the Logistic Regression pipeline on the validation data.\n",
    "y_logreg_pred_validate = logreg_pipeline.predict(X_validate)\n",
    "conf_matrix_logreg_validate = confusion_matrix(y_validate, y_logreg_pred_validate)  # Getting the confusion matrix.\n",
    "\n",
    "# Calculating probabilities for ROC AUC.\n",
    "y_logreg_prob_validate = logreg_pipeline.predict_proba(X_validate)\n",
    "fpr_logreg_validate, tpr_logreg_validate, thresholds_logreg_validate = roc_curve(y_validate, y_logreg_prob_validate[:,1], pos_label=1)\n",
    "roc_auc_logreg_validate = auc(fpr_logreg_validate, tpr_logreg_validate)  # Determining ROC AUC.\n",
    "\n",
    "# Assessing precision and recall for the validation predictions.\n",
    "precision_logreg_validate = precision_score(y_validate, y_logreg_pred_validate, average='macro')\n",
    "recall_logreg_validate = recall_score(y_validate, y_logreg_pred_validate, average='macro')\n",
    "\n",
    "# Outputting the performance metrics.\n",
    "print(\"Confusion Matrix:\\n\", conf_matrix_logreg_validate)\n",
    "print(f\"ROC AUC: {roc_auc_logreg_validate:.2f}\")\n",
    "print(f\"Precision: {precision_logreg_validate:.2f}\")\n",
    "print(f\"Recall: {recall_logreg_validate:.2f}\")"
   ]
  },
  {
   "cell_type": "markdown",
   "metadata": {},
   "source": [
    "The confusion matrix shows that the Logistic Regression model correctly predicted 9 true negatives (patients not at risk) and 13 true positives (patients at risk). However, it misclassified 2 patients as being at risk (false positives) and 6 patients as not being at risk (false negatives).\n",
    "\n",
    "The ROC AUC of 0.88 indicates a strong ability to differentiate between the patients at risk and not at risk of a heart attack, though slightly lower than the KNN model's performance. This metric suggests good discriminatory power, but not as high as observed in the KNN model.\n",
    "\n",
    "A precision of 0.73 means that when the model predicts a patient is at risk, it is correct about 73% of the time. The recall of 0.75 indicates that it correctly identifies 75% of the actual at-risk patients. These scores are slightly lower compared to the KNN model, implying that the Logistic Regression model might be a bit less reliable in its predictions on this validation set"
   ]
  },
  {
   "cell_type": "markdown",
   "metadata": {},
   "source": [
    "### Decision Tree"
   ]
  },
  {
   "cell_type": "code",
   "execution_count": 17,
   "metadata": {},
   "outputs": [
    {
     "name": "stdout",
     "output_type": "stream",
     "text": [
      "Confusion Matrix:\n",
      " [[ 9  2]\n",
      " [ 6 13]]\n",
      "ROC AUC : 0.86\n",
      "Precision : 0.73\n",
      "Recall : 0.75\n"
     ]
    }
   ],
   "source": [
    "y_dtc_pred_validate=dtc_pipeline_fitted.predict(X_validate)\n",
    "conf_matrix_dtc_validate = confusion_matrix(y_validate, y_dtc_pred_validate)\n",
    "\n",
    "y_dtc_prob_validate=dtc_pipeline_fitted.predict_proba(X_validate)\n",
    "fpr_dtc_validate, tpr_dtc_validate, thresholds_dtc_validate = roc_curve(y_validate, y_dtc_prob_validate[:,1], pos_label=1)\n",
    "roc_auc_dtc_validate = auc(fpr_dtc_validate, tpr_dtc_validate)\n",
    "precision_dtc_validate=precision_score(y_validate, y_dtc_pred_validate, average='macro')\n",
    "recall_dtc_validate=recall_score(y_validate, y_dtc_pred_validate, average='macro')\n",
    "\n",
    "print(\"Confusion Matrix:\\n\", conf_matrix_dtc_validate)\n",
    "print(f\"ROC AUC : {roc_auc_dtc_validate:.2f}\" )\n",
    "print(f\"Precision : {precision_dtc_validate:.2f}\" )\n",
    "print(f\"Recall : {recall_dtc_validate:.2f}\" )"
   ]
  },
  {
   "cell_type": "markdown",
   "metadata": {},
   "source": [
    "The confusion matrix shows that the Logistic Regression model correctly predicted 9 true negatives (patients not at risk) and 13 true positives (patients at risk). However, it misclassified 2 patients as being at risk (false positives) and 6 patients as not being at risk (false negatives).\n",
    "\n",
    "The ROC AUC of 0.86 indicates a strong ability to differentiate between the patients at risk and not at risk of a heart attack, though lower than the KNN model's performance. This metric suggests good discriminatory power, but not as high as observed in the KNN model.\n",
    "\n",
    "A precision of 0.73 means that when the model predicts a patient is at risk, it is correct about 73% of the time. The recall of 0.75 indicates that it correctly identifies 75% of the actual at-risk patients. These scores are slightly lower compared to the KNN model, implying that the decision tree model might be a bit less reliable in its predictions on this validation set"
   ]
  },
  {
   "cell_type": "markdown",
   "metadata": {},
   "source": [
    "# Part Five: Cohen Kappa"
   ]
  },
  {
   "cell_type": "code",
   "execution_count": 18,
   "metadata": {},
   "outputs": [
    {
     "data": {
      "text/html": [
       "<div>\n",
       "<style scoped>\n",
       "    .dataframe tbody tr th:only-of-type {\n",
       "        vertical-align: middle;\n",
       "    }\n",
       "\n",
       "    .dataframe tbody tr th {\n",
       "        vertical-align: top;\n",
       "    }\n",
       "\n",
       "    .dataframe thead th {\n",
       "        text-align: right;\n",
       "    }\n",
       "</style>\n",
       "<table border=\"1\" class=\"dataframe\">\n",
       "  <thead>\n",
       "    <tr style=\"text-align: right;\">\n",
       "      <th></th>\n",
       "      <th>Model</th>\n",
       "      <th>Accuracy</th>\n",
       "      <th>Specificity</th>\n",
       "      <th>Sensitivity</th>\n",
       "      <th>Precision</th>\n",
       "      <th>Cohen Kappa</th>\n",
       "    </tr>\n",
       "  </thead>\n",
       "  <tbody>\n",
       "    <tr>\n",
       "      <th>0</th>\n",
       "      <td>K-Nearest Neighbors</td>\n",
       "      <td>0.765455</td>\n",
       "      <td>0.699692</td>\n",
       "      <td>0.821609</td>\n",
       "      <td>0.761037</td>\n",
       "      <td>0.525364</td>\n",
       "    </tr>\n",
       "    <tr>\n",
       "      <th>1</th>\n",
       "      <td>Logistic Regression</td>\n",
       "      <td>0.787475</td>\n",
       "      <td>0.747077</td>\n",
       "      <td>0.822069</td>\n",
       "      <td>0.792876</td>\n",
       "      <td>0.571157</td>\n",
       "    </tr>\n",
       "    <tr>\n",
       "      <th>2</th>\n",
       "      <td>Decision Tree Classifier</td>\n",
       "      <td>0.747340</td>\n",
       "      <td>0.708308</td>\n",
       "      <td>0.780690</td>\n",
       "      <td>0.754762</td>\n",
       "      <td>0.490672</td>\n",
       "    </tr>\n",
       "  </tbody>\n",
       "</table>\n",
       "</div>"
      ],
      "text/plain": [
       "                      Model  Accuracy  Specificity  Sensitivity  Precision  \\\n",
       "0       K-Nearest Neighbors  0.765455     0.699692     0.821609   0.761037   \n",
       "1       Logistic Regression  0.787475     0.747077     0.822069   0.792876   \n",
       "2  Decision Tree Classifier  0.747340     0.708308     0.780690   0.754762   \n",
       "\n",
       "   Cohen Kappa  \n",
       "0     0.525364  \n",
       "1     0.571157  \n",
       "2     0.490672  "
      ]
     },
     "execution_count": 18,
     "metadata": {},
     "output_type": "execute_result"
    }
   ],
   "source": [
    "#Cohen's Kappa measures the degree of agreement between independent observers.\n",
    "from sklearn.metrics import cohen_kappa_score\n",
    "cohen_kappa_scorer=make_scorer(cohen_kappa_score)\n",
    "cohen_kappa_knc=cross_val_score(knc_pipeline_fitted, X, y, cv=5, scoring=cohen_kappa_scorer).mean()\n",
    "cohen_kappa_logreg=cross_val_score(logreg_pipeline, X, y, cv=5, scoring=cohen_kappa_scorer).mean()\n",
    "cohen_kappa_dtc=cross_val_score(dtc_pipeline_fitted, X, y, cv=5, scoring=cohen_kappa_scorer).mean()\n",
    "data_cohen_kappa={\n",
    "    'Model': ['K-Nearest Neighbors', 'Logistic Regression', 'Decision Tree Classifier'],\n",
    "    'Cohen Kappa':[cohen_kappa_knc, cohen_kappa_logreg, cohen_kappa_dtc ]\n",
    "}\n",
    "df_cohen_kappa=pd.DataFrame(data_cohen_kappa)\n",
    "df_scores.merge(df_cohen_kappa, on=['Model'])"
   ]
  },
  {
   "cell_type": "markdown",
   "metadata": {},
   "source": [
    "The findings remain consistent as Logistic Regression continues to exhibit the highest Cohen's Kappa value."
   ]
  }
 ],
 "metadata": {
  "kernelspec": {
   "display_name": "Python 3 (ipykernel)",
   "language": "python",
   "name": "python3"
  },
  "language_info": {
   "codemirror_mode": {
    "name": "ipython",
    "version": 3
   },
   "file_extension": ".py",
   "mimetype": "text/x-python",
   "name": "python",
   "nbconvert_exporter": "python",
   "pygments_lexer": "ipython3",
   "version": "3.11.5"
  }
 },
 "nbformat": 4,
 "nbformat_minor": 4
}
